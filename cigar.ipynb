{
 "cells": [
  {
   "cell_type": "code",
   "execution_count": 1,
   "metadata": {},
   "outputs": [],
   "source": [
    "import numpy as np\n",
    "\n",
    "import matplotlib\n",
    "import matplotlib.pyplot as plt\n",
    "%matplotlib inline  \n",
    "\n",
    "from astropy.table import Table\n",
    "import astropy.io.fits as fits\n",
    "from astropy import units as u\n",
    "from astropy.coordinates import Angle\n",
    "from astropy.coordinates import SkyCoord\n",
    "# For downloading files\n",
    "from astropy.utils.data import download_file\n",
    "\n",
    "import pyvo as vo"
   ]
  },
  {
   "cell_type": "code",
   "execution_count": 2,
   "metadata": {},
   "outputs": [
    {
     "data": {
      "text/html": [
       "<div><i>Table length=6</i>\n",
       "<table id=\"table2635492745680\" class=\"table-striped table-bordered table-condensed\">\n",
       "<thead><tr><th>ivoid</th><th>res_type</th><th>short_name</th><th>res_title</th><th>content_level</th><th>res_description</th><th>reference_url</th><th>creator_seq</th><th>created</th><th>updated</th><th>rights</th><th>content_type</th><th>source_format</th><th>source_value</th><th>region_of_regard</th><th>waveband</th><th>access_urls</th><th>standard_ids</th><th>intf_types</th><th>intf_roles</th><th>alt_identifier</th></tr></thead>\n",
       "<thead><tr><th></th><th></th><th></th><th></th><th></th><th></th><th></th><th></th><th></th><th></th><th></th><th></th><th></th><th></th><th>deg</th><th></th><th></th><th></th><th></th><th></th><th></th></tr></thead>\n",
       "<thead><tr><th>object</th><th>object</th><th>object</th><th>object</th><th>object</th><th>object</th><th>object</th><th>object</th><th>object</th><th>object</th><th>object</th><th>object</th><th>object</th><th>object</th><th>float32</th><th>object</th><th>object</th><th>object</th><th>object</th><th>object</th><th>object</th></tr></thead>\n",
       "<tr><td>ivo://nasa.heasarc/chanmaster</td><td>vs:catalogservice</td><td>Chandra</td><td>Chandra Observations</td><td>research</td><td>This database table contains all of the observations made by the Chandra X-Ray Observatory (CXO, formerly known as the Advanced X-ray Astrophysics Facility or AXAF) as part of the Performance Verification and Calibration (PVC) phase and also contains all of the subsequent Cycles&amp;#39; Guaranteed Time Observers (GTO) and General Observer (GO) targets, and any Director&amp;#39;s Discretionary Time (DDT) targets that have been observed. It also includes scheduled and as-yet-not-scheduled targets. The HEASARC updates this database table on a twice-weekly basis by querying the database table at the Chandra X-Ray Center (CXC) website, as discussed in the Provenance section. For observations whose status is &amp;#39;archived&amp;#39;, data products can be retrieved from the HEASARC&amp;#39;s mirror of the CXC&amp;#39;s Chandra Data Archive (CDA). The CXC should be acknowledged as the source of Chandra data. The PVC phase was during the first few months of the CXO mission; some of the calibration observations that are for monitoring purposes will be performed in later mission cycles. All calibration data (entries with Type = CAL in this database) are placed immediately into the CXO public data archive at the Chandra X-Ray Observatory Center (CXC); please see the Web page at &amp;lt;a href=&quot;http://asc.harvard.edu/&quot;&amp;gt;http://asc.harvard.edu/&amp;lt;/a&amp;gt; for more information on the CXC data archive). GTO observations during Cycle 1 or any subsequent Cycle will probably occupy 100% of months 3-4, 30% of months 5-22, and 15% of the available time for the remainder of the mission. Guaranteed Time Observers will have the same proprietary data rights as General Observers (i.e., their data will be placed in the public CXC archive 12 months after they have received the data in usable form). For detailed information on the Chandra Observatory and datasets see: &amp;lt;pre&amp;gt; &amp;lt;a href=&quot;http://cxc.harvard.edu/&quot;&amp;gt;http://cxc.harvard.edu/&amp;lt;/a&amp;gt; for general Chandra information &amp;lt;a href=&quot;http://cxc.harvard.edu/cda/&quot;&amp;gt;http://cxc.harvard.edu/cda/&amp;lt;/a&amp;gt; for the Chandra Data Archive &amp;lt;a href=&quot;http://cxc.harvard.edu/cal/&quot;&amp;gt;http://cxc.harvard.edu/cal/&amp;lt;/a&amp;gt; for calibration information &amp;lt;a href=&quot;http://cxc.harvard.edu/caldb/&quot;&amp;gt;http://cxc.harvard.edu/caldb/&amp;lt;/a&amp;gt; for the calibration database &amp;lt;a href=&quot;http://cxc.harvard.edu/ciao/&quot;&amp;gt;http://cxc.harvard.edu/ciao/&amp;lt;/a&amp;gt; for data analysis &amp;lt;a href=&quot;http://cxc.harvard.edu/ciao/download/&quot;&amp;gt;http://cxc.harvard.edu/ciao/download/&amp;lt;/a&amp;gt; for analysis software &amp;lt;a href=&quot;http://cxc.harvard.edu/ciao/threads/&quot;&amp;gt;http://cxc.harvard.edu/ciao/threads/&amp;lt;/a&amp;gt; for analysis threads &amp;lt;a href=&quot;http://cda.harvard.edu/chaser/&quot;&amp;gt;http://cda.harvard.edu/chaser/&amp;lt;/a&amp;gt; for WebChaSeR &amp;lt;/pre&amp;gt;</td><td>https://heasarc.gsfc.nasa.gov/W3Browse/all/chanmaster.html</td><td>SAO/CXC; HEASARC</td><td>2024-01-12T00:00:00</td><td>2024-01-12T00:00:00</td><td></td><td>archive</td><td></td><td></td><td>--</td><td>x-ray</td><td>https://heasarc.gsfc.nasa.gov/xamin/vo/ssa?table=chanmaster&amp;</td><td>ivo://ivoa.net/std/ssa</td><td>vs:paramhttp</td><td>std</td><td></td></tr>\n",
       "<tr><td>ivo://nasa.heasarc/hitomaster</td><td>vs:catalogservice</td><td>HITOMASTER</td><td>Hitomi Master Catalog</td><td>research</td><td>This table records high-level information for the observations obtained with Hitomi and provides access to the data archive. The Hitomi mission was launched on a JAXA H-IIA into low Earth orbit on February 17, 2016, at 5:45 pm JPS from Tanegashima Space Center. Hitomi was equipped with four different instruments that together cover a wide energy range 0.3-600 keV. The Soft X-ray Spectrometer (SXS), which combined a lightweight Soft X-ray Telescope paired with a X-ray Calorimeter Spectrometer, provided non-dispersive 7-eV resolution in the 0.3-10 keV bandpass with a field of view of about 3 arcminutes. The Soft X-ray Imager (SXI) expanded the field of view with a new generation CCD camera in the energy range of 0.5-12 keV at the focus of the second lightweights Soft X-ray Telescope; the Hard X-ray Imager (HXI, two units) performed sensitive imaging spectroscopy in the 5-80 keV band; the non-imaging Soft Gamma-ray Detector (SGD, two units) extended Hitomi&apos;s energy band to 600 keV. On March 27, 2016, JAXA lost contact with the satellite and, on April 28, announced the cessation of the efforts to restore mission operations. At that time Hitomi was in check-out phase and had started the calibration observations. Data were collected from six celestial objects (Perseus, N132D, IGR_J16318-4848, RXJ1856.5-3754, G21.5-0.9, and Crab) as well as black sky for a total of about one month of data. The data from these observations were divided into intervals of one day if the observation of a specific pointing was longer that one day. A sequence number was assigned to each observing day and within data from all instruments are included. The day division was mainly to limit the data size within a sequence number. There are in total 42 sequences, and each record in this database table is dedicated to a single sequence. The early observations do not contain data from all instruments and in cases the object was not always placed at the aim point. This database contains parameters to indicate which instrument was on and if the celestial source was in the field of view. The SXS was the first instrument to turn on and therefore all observations contain SXS data, although the thermal equilibrium was reached after March 4 2016. The second instrument was the SXI followed by the HXIs and, finally, the two SGDs.</td><td>https://heasarc.gsfc.nasa.gov/W3Browse/all/hitomaster.html</td><td>Angelini et al.</td><td>2024-01-12T00:00:00</td><td>2024-01-12T00:00:00</td><td></td><td>archive</td><td></td><td>2016SPIE.9905E..14A</td><td>--</td><td>x-ray</td><td>https://heasarc.gsfc.nasa.gov/xamin/vo/ssa?table=hitomaster&amp;</td><td>ivo://ivoa.net/std/ssa</td><td>vs:paramhttp</td><td>std</td><td></td></tr>\n",
       "<tr><td>ivo://nasa.heasarc/intbsc</td><td>vs:catalogservice</td><td>INTEGRAL/BSC</td><td>INTEGRAL Bright Source Catalog</td><td>research</td><td>The INTEGRAL Bright Source Catalog is based on publicly available data from the two main instruments (IBIS and SPI) on board INTEGRAL (see Winkler et al. 2003, A&amp;amp;A, 411, L1 for a description of the INTEGRAL spacecraft and instrument packages). INTEGRAL began collecting data in October 2002. This catalog will be regularly updated as data become public (~14 months after they are obtained). The Bright Source Catalog is a collaborative effort between the INTEGRAL Science Data Center (ISDC) in Switzerland and the NASA Goddard Space Flight Center (GSFC) INTEGRAL Guest Observer Facility (GOF). The results presented here are a result of a semi-automated analysis and they should be considered as approximate: they are intended to serve as a guideline to those interested in pursuing more detailed follow-up analyses. The data from the imager ISGRI (Lebrun et al. 2003, A&amp;amp;A, 411, L141) have been analyzed at the INTEGRAL Science Data Centre (ISDC), while the SPI (Vedrenne et al. 2003, A&amp;amp;A, 411, L63) data analysis was performed at GSFC as a service of the INTEGRAL GOF.</td><td>https://heasarc.gsfc.nasa.gov/W3Browse/all/intbsc.html</td><td>ISDC; INTEGRAL GOF</td><td>2024-01-12T00:00:00</td><td>2024-01-12T00:00:00</td><td></td><td>catalog</td><td></td><td></td><td>--</td><td>gamma-ray#x-ray</td><td>https://heasarc.gsfc.nasa.gov/xamin/vo/ssa?table=intbsc&amp;</td><td>ivo://ivoa.net/std/ssa</td><td>vs:paramhttp</td><td>std</td><td></td></tr>\n",
       "<tr><td>ivo://nasa.heasarc/xtemaster</td><td>vs:catalogservice</td><td>RXTE</td><td>XTE Master Catalog</td><td>research</td><td>This database table was created for the purpose of providing a comprehensive, accurate, and easily accessible tracking of Rossi X-Ray Timing Explorer (RXTE) pointed observations. It does not list observations made during slews: those are listed in the &amp;lt;a href=&quot;/W3Browse/xte/xteslew.html&quot;&amp;gt;XTESLEW&amp;lt;/a&amp;gt; database table. The XTEMASTER table includes both observations that have already completed and those still scheduled to be done.</td><td>https://heasarc.gsfc.nasa.gov/W3Browse/all/xtemaster.html</td><td>HEASARC</td><td>2024-01-12T00:00:00</td><td>2024-01-12T00:00:00</td><td></td><td>archive</td><td></td><td></td><td>--</td><td>x-ray</td><td>https://heasarc.gsfc.nasa.gov/xamin/vo/ssa?table=xtemaster&amp;</td><td>ivo://ivoa.net/std/ssa</td><td>vs:paramhttp</td><td>std</td><td></td></tr>\n",
       "<tr><td>ivo://ned.ipac/sed_data_near_position</td><td>vs:catalogservice</td><td>NED_SED</td><td>NED SED Data Discovery Service</td><td>education#research</td><td>NED SED Information Discovery Request service:\\n      \\n      This service retrieves photometry for objects within a specified radius of a given\\n      position. The search region is specified by two parameters: POS [RA and DEC\\n      in decimal degrees, ICRF/FK5J2000] and SIZE [degrees]. This service returns a\\n      list of NED Object Identifiers (Names), the count of photometric SED measurements\\n      for each object, and the URI (ACREF) for the SED Data Retrieval request (accessSED).\\n      This service is used by the VO SED analysis tool Iris.</td><td>https://ned.ipac.caltech.edu/Documents/Guides/Interface/SEDservice</td><td></td><td>2022-09-07T22:00:00</td><td>2022-09-07T22:01:00</td><td></td><td>photometry</td><td></td><td></td><td>--</td><td>radio#millimeter#infrared#optical#uv#euv#x-ray#gamma-ray</td><td>https://vo.ned.ipac.caltech.edu/services/querySED?REQUEST=queryData</td><td>ivo://ivoa.net/std/ssa</td><td>vs:paramhttp</td><td>std</td><td></td></tr>\n",
       "<tr><td>ivo://wfau.roe.ac.uk/heavens_at_isdc/light-curves</td><td>vs:catalogservice</td><td>HEAVENS @ ISDC</td><td>Mining the HEAVENS with the Virtual Observatory</td><td>research</td><td>With time, all HEAVENS products should become available on the Virtual Observatory.\\nIn some cases this requires an enhancement of the Virtual Observatory standards.\\n\\nFor now the following HEAVENS services are available through the VO:\\n\\n- SIAP Image cutout service for INTEGRAL/ISGRI and JEM-X\\n- Timeseries service for INTEGRAL/ISGRI, JEM-X and OMC\\n\\nWished features include:\\n\\n- Extended Query Parameters for time intervals\\n- Extended Query Parameters for energy bands\\n- Timeseries service for INTEGRAL/IREM and SPI-ACS\\n- Spectra service for all INTEGRAL instruments</td><td>http://www.isdc.unige.ch/heavens/</td><td>ISDC Data Centre for Astrophysics</td><td>2008-02-13T16:32:45</td><td>2012-05-03T15:51:44</td><td></td><td>survey</td><td></td><td></td><td>--</td><td>x-ray#gamma-ray</td><td>http://www.isdc.unige.ch/vo-services/lc</td><td>ivo://ivoa.net/std/ssa</td><td>vs:paramhttp</td><td>std</td><td></td></tr>\n",
       "</table></div>"
      ],
      "text/plain": [
       "<Table length=6>\n",
       "                      ivoid                       ... alt_identifier\n",
       "                                                  ...               \n",
       "                      object                      ...     object    \n",
       "------------------------------------------------- ... --------------\n",
       "                    ivo://nasa.heasarc/chanmaster ...               \n",
       "                    ivo://nasa.heasarc/hitomaster ...               \n",
       "                        ivo://nasa.heasarc/intbsc ...               \n",
       "                     ivo://nasa.heasarc/xtemaster ...               \n",
       "            ivo://ned.ipac/sed_data_near_position ...               \n",
       "ivo://wfau.roe.ac.uk/heavens_at_isdc/light-curves ...               "
      ]
     },
     "execution_count": 2,
     "metadata": {},
     "output_type": "execute_result"
    }
   ],
   "source": [
    "services = vo.regsearch(servicetype='ssa',waveband='x-ray')\n",
    "services.to_table()"
   ]
  },
  {
   "cell_type": "code",
   "execution_count": 3,
   "metadata": {},
   "outputs": [],
   "source": [
    "chandra_service = [s for s in services if 'Chandra' in s.short_name][0]"
   ]
  },
  {
   "cell_type": "code",
   "execution_count": 4,
   "metadata": {},
   "outputs": [
    {
     "data": {
      "text/html": [
       "<div><i>Table length=4</i>\n",
       "<table id=\"table2636221035856\" class=\"table-striped table-bordered table-condensed\">\n",
       "<thead><tr><th>obsid</th><th>status</th><th>name</th><th>ra</th><th>dec</th><th>time</th><th>detector</th><th>grating</th><th>exposure</th><th>type</th><th>pi</th><th>public_date</th><th>datalink</th><th>SSA_start_time</th><th>SSA_tmid</th><th>SSA_stop_time</th><th>SSA_duration</th><th>SSA_coord_obs</th><th>SSA_ra</th><th>SSA_dec</th><th>SSA_fov</th><th>SSA_title</th><th>SSA_reference</th><th>SSA_datalength</th><th>SSA_datamodel</th><th>SSA_instrument</th><th>SSA_publisher</th><th>SSA_format</th><th>SSA_wavelength_min</th><th>SSA_wavelength_max</th><th>SSA_bandwidth</th><th>SSA_bandpass</th><th>cloud_access</th></tr></thead>\n",
       "<thead><tr><th></th><th></th><th></th><th>deg</th><th>deg</th><th>d</th><th></th><th></th><th>s</th><th></th><th></th><th>d</th><th></th><th>d</th><th>d</th><th>d</th><th>s</th><th>deg</th><th>deg</th><th>deg</th><th>deg</th><th></th><th></th><th></th><th></th><th></th><th></th><th></th><th>m</th><th>m</th><th>m</th><th>m</th><th></th></tr></thead>\n",
       "<thead><tr><th>object</th><th>object</th><th>object</th><th>float64</th><th>float64</th><th>float64</th><th>object</th><th>object</th><th>float64</th><th>object</th><th>object</th><th>int32</th><th>object</th><th>float64</th><th>float64</th><th>float64</th><th>float64</th><th>float64</th><th>float64</th><th>float64</th><th>float64</th><th>object</th><th>object</th><th>object</th><th>object</th><th>object</th><th>object</th><th>object</th><th>float64</th><th>float64</th><th>float64</th><th>float64</th><th>object</th></tr></thead>\n",
       "<tr><td>23469</td><td>archived</td><td>M82 X-2</td><td>148.96267</td><td>69.67930</td><td>59457.9733</td><td>HRC-I</td><td>LETG</td><td>5040</td><td>GO</td><td>CXC</td><td>59843</td><td>25016:chandra.obs.misc</td><td>59457.9733449074</td><td>--</td><td>--</td><td>5040.0</td><td>--</td><td>148.96267</td><td>69.6793</td><td>0.81</td><td>hrcf23469N002_pha2.fits</td><td>https://heasarc.gsfc.nasa.gov/FTP/chandra/data/byobsid/9/23469/primary/hrcf23469N002_pha2.fits.gz</td><td>2</td><td>Spectrum-1.0</td><td>HRC-I</td><td>HEASARC</td><td>application/fits</td><td>1.2398e-10</td><td>6.1992e-09</td><td>6.07522e-09</td><td>3.16159e-09</td><td>{&quot;aws&quot;:{&quot;bucket_name&quot;:&quot;nasa-heasarc&quot;,&quot;region&quot;:&quot;us-east-1&quot;,&quot;policy&quot;:&quot;open&quot;,&quot;key&quot;:&quot;chandra/data/byobsid/9/23469/primary/hrcf23469N002_pha2.fits.gz&quot;}}</td></tr>\n",
       "<tr><td>19792</td><td>archived</td><td>M82 X-1</td><td>148.95917</td><td>69.67972</td><td>57642.353</td><td>ACIS-S</td><td>HETG</td><td>32440</td><td>TOO</td><td>Walton</td><td>58010</td><td>25035:chandra.obs.misc</td><td>57642.3530092593</td><td>--</td><td>--</td><td>32440.0</td><td>--</td><td>148.95917</td><td>69.67972</td><td>0.81</td><td>acisf19792N003_pha2.fits</td><td>https://heasarc.gsfc.nasa.gov/FTP/chandra/data/byobsid/2/19792/primary/acisf19792N003_pha2.fits.gz</td><td>12</td><td>Spectrum-1.0</td><td>ACIS-S</td><td>HEASARC</td><td>application/fits</td><td>1.2398e-10</td><td>6.1992e-09</td><td>6.07522e-09</td><td>3.16159e-09</td><td>{&quot;aws&quot;:{&quot;bucket_name&quot;:&quot;nasa-heasarc&quot;,&quot;region&quot;:&quot;us-east-1&quot;,&quot;policy&quot;:&quot;open&quot;,&quot;key&quot;:&quot;chandra/data/byobsid/2/19792/primary/acisf19792N003_pha2.fits.gz&quot;}}</td></tr>\n",
       "<tr><td>17860</td><td>archived</td><td>M82 X-1</td><td>148.95917</td><td>69.67972</td><td>57639.7292</td><td>ACIS-S</td><td>HETG</td><td>51060</td><td>TOO</td><td>Walton</td><td>58010</td><td>25039:chandra.obs.misc</td><td>57639.7291782407</td><td>--</td><td>--</td><td>51060.0</td><td>--</td><td>148.95917</td><td>69.67972</td><td>0.81</td><td>acisf17860N003_pha2.fits</td><td>https://heasarc.gsfc.nasa.gov/FTP/chandra/data/byobsid/0/17860/primary/acisf17860N003_pha2.fits.gz</td><td>12</td><td>Spectrum-1.0</td><td>ACIS-S</td><td>HEASARC</td><td>application/fits</td><td>1.2398e-10</td><td>6.1992e-09</td><td>6.07522e-09</td><td>3.16159e-09</td><td>{&quot;aws&quot;:{&quot;bucket_name&quot;:&quot;nasa-heasarc&quot;,&quot;region&quot;:&quot;us-east-1&quot;,&quot;policy&quot;:&quot;open&quot;,&quot;key&quot;:&quot;chandra/data/byobsid/0/17860/primary/acisf17860N003_pha2.fits.gz&quot;}}</td></tr>\n",
       "<tr><td>19791</td><td>archived</td><td>M82 X-1</td><td>148.95917</td><td>69.67972</td><td>57641.5702</td><td>ACIS-S</td><td>HETG</td><td>15310</td><td>TOO</td><td>Walton</td><td>58010</td><td>25042:chandra.obs.misc</td><td>57641.5701851852</td><td>--</td><td>--</td><td>15310.0</td><td>--</td><td>148.95917</td><td>69.67972</td><td>0.81</td><td>acisf19791N003_pha2.fits</td><td>https://heasarc.gsfc.nasa.gov/FTP/chandra/data/byobsid/1/19791/primary/acisf19791N003_pha2.fits.gz</td><td>12</td><td>Spectrum-1.0</td><td>ACIS-S</td><td>HEASARC</td><td>application/fits</td><td>1.2398e-10</td><td>6.1992e-09</td><td>6.07522e-09</td><td>3.16159e-09</td><td>{&quot;aws&quot;:{&quot;bucket_name&quot;:&quot;nasa-heasarc&quot;,&quot;region&quot;:&quot;us-east-1&quot;,&quot;policy&quot;:&quot;open&quot;,&quot;key&quot;:&quot;chandra/data/byobsid/1/19791/primary/acisf19791N003_pha2.fits.gz&quot;}}</td></tr>\n",
       "</table></div>"
      ],
      "text/plain": [
       "<Table length=4>\n",
       "obsid  ...\n",
       "       ...\n",
       "object ...\n",
       "------ ...\n",
       " 23469 ...\n",
       " 19792 ...\n",
       " 17860 ...\n",
       " 19791 ..."
      ]
     },
     "execution_count": 4,
     "metadata": {},
     "output_type": "execute_result"
    }
   ],
   "source": [
    "cigar = SkyCoord.from_name(\"m82\")\n",
    "spec_tables = chandra_service.search(pos=cigar,diameter=Angle(10 *u.arcmin))\n",
    "spec_tables.to_table()"
   ]
  },
  {
   "cell_type": "code",
   "execution_count": 5,
   "metadata": {},
   "outputs": [
    {
     "data": {
      "text/plain": [
       "'https://heasarc.gsfc.nasa.gov/FTP/chandra/data/byobsid/9/23469/primary/hrcf23469N002_pha2.fits.gz'"
      ]
     },
     "execution_count": 5,
     "metadata": {},
     "output_type": "execute_result"
    }
   ],
   "source": [
    "spec_data = spec_tables[0].getdataurl()\n",
    "spec_data"
   ]
  },
  {
   "cell_type": "code",
   "execution_count": 6,
   "metadata": {},
   "outputs": [],
   "source": [
    "file_name = download_file(spec_data,cache=True)\n",
    "hdu_list = fits.open(file_name)"
   ]
  },
  {
   "cell_type": "code",
   "execution_count": 7,
   "metadata": {},
   "outputs": [
    {
     "name": "stdout",
     "output_type": "stream",
     "text": [
      "Filename: C:\\Users\\rushi\\.astropy\\cache\\download\\url\\fec126a10e93d0fe9801a372579447c3\\contents\n",
      "No.    Name      Ver    Type      Cards   Dimensions   Format\n",
      "  0  PRIMARY       1 PrimaryHDU      28   ()      \n",
      "  1  SPECTRUM      1 BinTableHDU    263   2R x 13C   [1I, 1I, 1I, 1I, 1E, 1E, 16384I, 16384I, 16384E, 16384I, 16384I, 16384D, 16384D]   \n",
      "  2  REGION        1 BinTableHDU    145   6R x 11C   [1I, 64A, 16A, 1E, 1E, 2E, 1E, 1I, 1I, 1I, 1I]   \n"
     ]
    }
   ],
   "source": [
    "hdu_list.info()"
   ]
  },
  {
   "cell_type": "code",
   "execution_count": 8,
   "metadata": {},
   "outputs": [
    {
     "data": {
      "text/plain": [
       "FITS_rec([(1, -1, 3, 1, 16464., 16420., [    1,     2,     3, ..., 16382, 16383, 16384], [0, 0, 0, ..., 0, 1, 3], [1.8660254, 1.8660254, 1.8660254, ..., 1.8660254, 2.3228757, 2.9364917], [0, 0, 0, ..., 6, 1, 5], [0, 0, 0, ..., 1, 1, 1], [205.7875, 205.775 , 205.7625, ...,   1.025 ,   1.0125,   1.    ], [205.8   , 205.7875, 205.775 , ...,   1.0375,   1.025 ,   1.0125]),\n",
       "          (2,  1, 3, 1, 16464., 16420., [    1,     2,     3, ..., 16382, 16383, 16384], [0, 0, 0, ..., 3, 1, 1], [1.8660254, 1.8660254, 1.8660254, ..., 2.9364917, 2.3228757, 2.3228757], [0, 0, 0, ..., 3, 3, 2], [0, 0, 0, ..., 1, 3, 3], [205.7875, 205.775 , 205.7625, ...,   1.025 ,   1.0125,   1.    ], [205.8   , 205.7875, 205.775 , ...,   1.0375,   1.025 ,   1.0125])],\n",
       "         dtype=(numpy.record, [('SPEC_NUM', '>i2'), ('TG_M', '>i2'), ('TG_PART', '>i2'), ('TG_SRCID', '>i2'), ('X', '>f4'), ('Y', '>f4'), ('CHANNEL', '>i2', (16384,)), ('COUNTS', '>i2', (16384,)), ('STAT_ERR', '>f4', (16384,)), ('BACKGROUND_UP', '>i2', (16384,)), ('BACKGROUND_DOWN', '>i2', (16384,)), ('BIN_LO', '>f8', (16384,)), ('BIN_HI', '>f8', (16384,))]))"
      ]
     },
     "execution_count": 8,
     "metadata": {},
     "output_type": "execute_result"
    }
   ],
   "source": [
    "hdu_list[1].data"
   ]
  },
  {
   "cell_type": "code",
   "execution_count": 9,
   "metadata": {},
   "outputs": [
    {
     "data": {
      "text/plain": [
       "array([[    1,     2,     3, ..., 16382, 16383, 16384],\n",
       "       [    1,     2,     3, ..., 16382, 16383, 16384]], dtype='>i2')"
      ]
     },
     "execution_count": 9,
     "metadata": {},
     "output_type": "execute_result"
    }
   ],
   "source": [
    "hdu_list[1].data['CHANNEL']"
   ]
  },
  {
   "cell_type": "code",
   "execution_count": 10,
   "metadata": {},
   "outputs": [
    {
     "data": {
      "text/html": [
       "<div><i>Table length=2</i>\n",
       "<table id=\"table2636221888656\" class=\"table-striped table-bordered table-condensed\">\n",
       "<thead><tr><th>SPEC_NUM</th><th>TG_M</th><th>TG_PART</th><th>TG_SRCID</th><th>X</th><th>Y</th><th>CHANNEL</th><th>COUNTS</th><th>STAT_ERR</th><th>BACKGROUND_UP</th><th>BACKGROUND_DOWN</th><th>BIN_LO</th><th>BIN_HI</th></tr></thead>\n",
       "<thead><tr><th>int16</th><th>int16</th><th>int16</th><th>int16</th><th>float32</th><th>float32</th><th>int16[16384]</th><th>int16[16384]</th><th>float32[16384]</th><th>int16[16384]</th><th>int16[16384]</th><th>float64[16384]</th><th>float64[16384]</th></tr></thead>\n",
       "<tr><td>1</td><td>-1</td><td>3</td><td>1</td><td>16464.0</td><td>16420.0</td><td>1 .. 16384</td><td>0 .. 3</td><td>1.8660254 .. 2.9364917</td><td>0 .. 5</td><td>0 .. 1</td><td>205.78749999994977 .. 1.0</td><td>205.79999999994976 .. 1.0125</td></tr>\n",
       "<tr><td>2</td><td>1</td><td>3</td><td>1</td><td>16464.0</td><td>16420.0</td><td>1 .. 16384</td><td>0 .. 1</td><td>1.8660254 .. 2.3228757</td><td>0 .. 2</td><td>0 .. 3</td><td>205.78749999994977 .. 1.0</td><td>205.79999999994976 .. 1.0125</td></tr>\n",
       "</table></div>"
      ],
      "text/plain": [
       "<Table length=2>\n",
       "SPEC_NUM  TG_M ...           BIN_LO                     BIN_HI           \n",
       " int16   int16 ...       float64[16384]             float64[16384]       \n",
       "-------- ----- ... ------------------------- ----------------------------\n",
       "       1    -1 ... 205.78749999994977 .. 1.0 205.79999999994976 .. 1.0125\n",
       "       2     1 ... 205.78749999994977 .. 1.0 205.79999999994976 .. 1.0125"
      ]
     },
     "execution_count": 10,
     "metadata": {},
     "output_type": "execute_result"
    }
   ],
   "source": [
    "spec_table = Table(hdu_list[1].data)\n",
    "spec_table"
   ]
  },
  {
   "cell_type": "code",
   "execution_count": 15,
   "metadata": {},
   "outputs": [
    {
     "data": {
      "image/png": "[encoded data removed]",
      "text/plain": [
       "<Figure size 1200x1000 with 2 Axes>"
      ]
     },
     "metadata": {},
     "output_type": "display_data"
    }
   ],
   "source": [
    "matplotlib.rcParams['figure.figsize'] = (12, 10)\n",
    "\n",
    "for i in range(len(spec_table)): \n",
    "    \n",
    "    ax = plt.subplot(6,2,i+1)\n",
    "    pha = plt.plot( spec_table['CHANNEL'][i],spec_table['COUNTS'][i])\n",
    "    ax.set_yscale('log')\n",
    "    if spec_table['TG_PART'][i] == 1:\n",
    "        # instr='HEG'\n",
    "        ax.set_title(f'HEG-{i+1}') \n",
    "\n",
    "    elif spec_table['TG_PART'][i] == 2:\n",
    "        # instr='MEG'\n",
    "        ax.set_title(f'MEG-{i+1}') \n",
    "    elif spec_table['TG_PART'][i] == 3:\n",
    "        # instr='LEG'\n",
    "        ax.set_title(f'LEG-{i+1}') \n",
    "    \n",
    "plt.tight_layout()"
   ]
  }
 ],
 "metadata": {
  "kernelspec": {
   "display_name": "Python 3",
   "language": "python",
   "name": "python3"
  },
  "language_info": {
   "codemirror_mode": {
    "name": "ipython",
    "version": 3
   },
   "file_extension": ".py",
   "mimetype": "text/x-python",
   "name": "python",
   "nbconvert_exporter": "python",
   "pygments_lexer": "ipython3",
   "version": "3.11.5"
  }
 },
 "nbformat": 4,
 "nbformat_minor": 2
}
